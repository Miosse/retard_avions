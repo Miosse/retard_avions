{
 "cells": [
  {
   "cell_type": "code",
   "execution_count": 2,
   "metadata": {},
   "outputs": [],
   "source": [
    "import pandas as pd"
   ]
  },
  {
   "cell_type": "code",
   "execution_count": 3,
   "metadata": {},
   "outputs": [],
   "source": [
    "df1 = pd.read_csv('datas_total_nettoyees-Q4.csv')"
   ]
  },
  {
   "cell_type": "code",
   "execution_count": 3,
   "metadata": {},
   "outputs": [
    {
     "data": {
      "text/plain": [
       "Index(['QUARTER', 'MONTH', 'DAY_OF_MONTH', 'DAY_OF_WEEK', 'FL_DATE',\n",
       "       'AIRLINE_ID', 'CARRIER', 'TAIL_NUM', 'FL_NUM', 'ORIGIN_AIRPORT_SEQ_ID',\n",
       "       'DEST_AIRPORT_SEQ_ID', 'CRS_DEP_TIME', 'DEP_TIME', 'DEP_DELAY',\n",
       "       'CRS_ARR_TIME', 'ARR_DELAY', 'CRS_ELAPSED_TIME', 'DISTANCE',\n",
       "       'CARRIER_DELAY', 'WEATHER_DELAY', 'NAS_DELAY', 'SECURITY_DELAY',\n",
       "       'LATE_AIRCRAFT_DELAY', 'ARR_HOUR', 'DEP_HOUR', 'HDAYS',\n",
       "       'DEP_NB_CUMUL_PAR_HEURE', 'ARR_NB_CUMUL_PAR_HEURE', 'SOMME_DELAY'],\n",
       "      dtype='object')"
      ]
     },
     "execution_count": 3,
     "metadata": {},
     "output_type": "execute_result"
    }
   ],
   "source": [
    "df1.columns"
   ]
  },
  {
   "cell_type": "code",
   "execution_count": 7,
   "metadata": {},
   "outputs": [],
   "source": [
    "df2 = df1[['QUARTER', 'MONTH', 'DAY_OF_MONTH', 'DAY_OF_WEEK', 'FL_DATE',\n",
    "       'AIRLINE_ID', 'CARRIER', 'TAIL_NUM', 'FL_NUM', 'ORIGIN_AIRPORT_SEQ_ID',\n",
    "       'DEST_AIRPORT_SEQ_ID', 'CRS_DEP_TIME', 'DEP_TIME', 'DEP_DELAY',\n",
    "        'CRS_ARR_TIME',\n",
    "       'ARR_DELAY', 'CRS_ELAPSED_TIME', 'DISTANCE',\n",
    "       'ARR_HOUR', 'DEP_HOUR', 'HDAYS',\n",
    "       'DEP_NB_CUMUL_PAR_HEURE', 'ARR_NB_CUMUL_PAR_HEURE']]"
   ]
  },
  {
   "cell_type": "code",
   "execution_count": 4,
   "metadata": {},
   "outputs": [],
   "source": [
    "df3 = df1[['QUARTER', 'MONTH', 'DAY_OF_MONTH', 'DAY_OF_WEEK', 'FL_DATE',\n",
    "       'AIRLINE_ID', 'ORIGIN_AIRPORT_SEQ_ID',\n",
    "       'DEST_AIRPORT_SEQ_ID', 'CRS_DEP_TIME', \n",
    "        'CRS_ARR_TIME',\n",
    "       'ARR_DELAY', 'CRS_ELAPSED_TIME', 'DISTANCE',\n",
    "       'ARR_HOUR', 'DEP_HOUR', 'HDAYS',\n",
    "       'DEP_NB_CUMUL_PAR_HEURE', 'ARR_NB_CUMUL_PAR_HEURE']]"
   ]
  },
  {
   "cell_type": "code",
   "execution_count": null,
   "metadata": {},
   "outputs": [],
   "source": []
  },
  {
   "cell_type": "code",
   "execution_count": 5,
   "metadata": {},
   "outputs": [
    {
     "data": {
      "text/plain": [
       "(452226, 22)"
      ]
     },
     "execution_count": 5,
     "metadata": {},
     "output_type": "execute_result"
    }
   ],
   "source": [
    "df2.shape"
   ]
  },
  {
   "cell_type": "code",
   "execution_count": 5,
   "metadata": {},
   "outputs": [],
   "source": [
    "df3.to_csv('datas_total_nettoyees-Q4_NEW.csv', index=False)"
   ]
  },
  {
   "cell_type": "code",
   "execution_count": null,
   "metadata": {},
   "outputs": [],
   "source": []
  }
 ],
 "metadata": {
  "kernelspec": {
   "display_name": "Python 3",
   "language": "python",
   "name": "python3"
  },
  "language_info": {
   "codemirror_mode": {
    "name": "ipython",
    "version": 3
   },
   "file_extension": ".py",
   "mimetype": "text/x-python",
   "name": "python",
   "nbconvert_exporter": "python",
   "pygments_lexer": "ipython3",
   "version": "3.6.5"
  }
 },
 "nbformat": 4,
 "nbformat_minor": 2
}
